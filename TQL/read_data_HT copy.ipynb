{
 "cells": [
  {
   "cell_type": "code",
   "execution_count": null,
   "id": "e51106c1",
   "metadata": {},
   "outputs": [],
   "source": [
    "\n",
    "\n",
    "\n",
    "\n",
    "\n",
    "\n",
    "all_data = []\n",
    "# 假设文件夹路径\n",
    "folder_path = 'your_folder_path'\n",
    "for root, dirs, files in os.walk(folder_path):\n",
    "    if files:\n",
    "        farm_folder_name = os.path.basename(root)\n",
    "        for file in files:\n",
    "            file_path = os.path.join(root, file)\n",
    "            df = pd.read_excel(file_path)\n",
    "            if '湿度-外部-平均' not in df.columns:\n",
    "                df['湿度-外部-平均'] = float('nan')\n",
    "            id_no = generate_id(farm_folder_name, file)\n",
    "            df['id_no'] = id_no\n",
    "            all_data.append(df)\n",
    "\n",
    "merged_df = pd.concat(all_data, ignore_index=True)"
   ]
  },
  {
   "cell_type": "code",
   "execution_count": null,
   "id": "34719523",
   "metadata": {},
   "outputs": [],
   "source": [
    "import os\n",
    "import pandas as pd"
   ]
  },
  {
   "cell_type": "code",
   "execution_count": null,
   "id": "badb9305",
   "metadata": {},
   "outputs": [],
   "source": [
    "def generate_id(farm_folder_name, file_name):\n",
    "    parts = farm_folder_name.split('-')\n",
    "    farm_number = parts[0].lstrip('G')\n",
    "    batch_number = parts[1]\n",
    "    if 'G' in file_name:\n",
    "        file_parts = file_name.split('-')\n",
    "        coop_number = file_parts[-1]\n",
    "    else:\n",
    "        coop_number = file_name\n",
    "    return f\"G{farm_number}-{batch_number}-{coop_number}\""
   ]
  },
  {
   "cell_type": "code",
   "execution_count": null,
   "id": "9842647d",
   "metadata": {},
   "outputs": [],
   "source": [
    "all_data = []\n",
    "# 假设文件夹路径\n",
    "folder_path = 'your_folder_path'\n",
    "for root, dirs, files in os.walk(folder_path):\n",
    "    if files:\n",
    "        farm_folder_name = os.path.basename(root)\n",
    "        for file in files:\n",
    "            file_path = os.path.join(root, file)\n",
    "            df = pd.read_excel(file_path)\n",
    "            if '湿度-外部-平均' not in df.columns:\n",
    "                df['湿度-外部-平均'] = float('nan')\n",
    "            id_no = generate_id(farm_folder_name, file)\n",
    "            df['id_no'] = id_no\n",
    "            all_data.append(df)\n",
    "\n",
    "merged_df = pd.concat(all_data, ignore_index=True)"
   ]
  }
 ],
 "metadata": {
  "language_info": {
   "name": "python"
  }
 },
 "nbformat": 4,
 "nbformat_minor": 5
}
